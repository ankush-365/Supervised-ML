import pandas as pd
import numpy as np
import matplotlib.pyplot as plt
from sklearn.linear_model import LinearRegression

data = {
    "Experience": [1, 3, 5, 7, 9, 11, 13, 15, 17, 20],  # Job experience in years
    "Education": ["BE", "BE", "ME", "ME", "ME", "PhD", "PhD", "PhD", "PhD", "PhD"],  # Education level
    "Salary": [35, 45, 55, 65, 75, 85, 95, 110, 120, 150]  # Salary in $1000s
}

# Convert to DataFrame
df = pd.DataFrame(data)

# Encode Education Levels (BE=1, ME=2, PhD=3)
education_mapping = {"BE": 1, "ME": 2, "PhD": 3}
df["Education"] = df["Education"].map(education_mapping)

# Define Independent Variables (X) and Dependent Variable (Y)
X = df[["Experience", "Education"]]  # Two independent variables
Y = df["Salary"]  # Dependent variable

# Create and Train the Model
model = LinearRegression()
model.fit(X, Y)

# Get model parameters
m_experience, m_education = model.coef_  # Slopes for experience and education
c = model.intercept_  # Intercept

# Print the equation
print(f"Salary = {m_experience:.2f} * Experience + {m_education:.2f} * Education Level + {c:.2f}")

# Predict salary for new values
X_pred = np.array([[10, 2], [5, 1], [15, 3]])  # Example: (Experience, Education)
salary_pred = model.predict(X_pred)

# Print Predictions
for i, pred in enumerate(salary_pred):
    edu_label = {1: "BE", 2: "ME", 3: "PhD"}[X_pred[i][1]]
    print(f"Predicted Salary for Experience={X_pred[i][0]} years, Education={edu_label}: ${pred:.2f}K")

# Visualization: Experience vs Salary
plt.scatter(df["Experience"], df["Salary"], color="blue", label="Actual Salaries")
plt.xlabel("Experience (Years)")
plt.ylabel("Salary ($1000s)")
plt.title("Job Experience vs Salary")
plt.grid(True)
plt.show()