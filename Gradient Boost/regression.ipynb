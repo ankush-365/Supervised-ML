{
 "cells": [
  {
   "cell_type": "code",
   "execution_count": null,
   "id": "56a627d1",
   "metadata": {},
   "outputs": [],
   "source": [
    "import pandas as pd\n",
    "import numpy as np\n",
    "import seaborn as sns\n",
    "import matplotlib.pyplot as plt"
   ]
  },
  {
   "cell_type": "code",
   "execution_count": null,
   "id": "2b72476a",
   "metadata": {},
   "outputs": [],
   "source": [
    "df = pd.read_csv('cardekho_imputated.csv',index_col=[0])"
   ]
  },
  {
   "cell_type": "code",
   "execution_count": null,
   "id": "1889dca1",
   "metadata": {},
   "outputs": [],
   "source": [
    "df.head()"
   ]
  },
  {
   "cell_type": "code",
   "execution_count": null,
   "id": "ce83af5f",
   "metadata": {},
   "outputs": [],
   "source": [
    "df.drop(['car_name','brand'],axis=1,inplace=True)"
   ]
  },
  {
   "cell_type": "code",
   "execution_count": null,
   "id": "f001ee3f",
   "metadata": {},
   "outputs": [],
   "source": [
    "df.head()"
   ]
  },
  {
   "cell_type": "code",
   "execution_count": null,
   "id": "7da138e2",
   "metadata": {},
   "outputs": [],
   "source": [
    "df['model'].unique()"
   ]
  },
  {
   "cell_type": "code",
   "execution_count": null,
   "id": "26380773",
   "metadata": {},
   "outputs": [],
   "source": [
    "df['seller_type'].value_counts()"
   ]
  },
  {
   "cell_type": "code",
   "execution_count": null,
   "id": "f71ecb1c",
   "metadata": {},
   "outputs": [],
   "source": [
    "df['fuel_type'].value_counts()"
   ]
  },
  {
   "cell_type": "code",
   "execution_count": null,
   "id": "5c3c531b",
   "metadata": {},
   "outputs": [],
   "source": [
    "## Independent and Dependent feature\n",
    "X = df.drop('selling_price',axis=1)\n",
    "y = df['selling_price']"
   ]
  },
  {
   "cell_type": "code",
   "execution_count": null,
   "id": "4d27c29c",
   "metadata": {},
   "outputs": [],
   "source": [
    "from sklearn.preprocessing import LabelEncoder\n",
    "le = LabelEncoder()"
   ]
  },
  {
   "cell_type": "code",
   "execution_count": null,
   "id": "0e5cf87a",
   "metadata": {},
   "outputs": [],
   "source": [
    "X['model'] = le.fit_transform(X['model'])"
   ]
  },
  {
   "cell_type": "code",
   "execution_count": null,
   "id": "ea246b18",
   "metadata": {},
   "outputs": [],
   "source": [
    "X['model'].unique()"
   ]
  },
  {
   "cell_type": "code",
   "execution_count": null,
   "id": "45867b74",
   "metadata": {},
   "outputs": [],
   "source": [
    "X.head()"
   ]
  },
  {
   "cell_type": "code",
   "execution_count": null,
   "id": "e53833d3",
   "metadata": {},
   "outputs": [],
   "source": [
    "cat_feature = X.select_dtypes(include='object').columns\n",
    "num_feature = X.select_dtypes(exclude='object').columns"
   ]
  },
  {
   "cell_type": "code",
   "execution_count": null,
   "id": "1222eacd",
   "metadata": {},
   "outputs": [],
   "source": [
    "cat_feature"
   ]
  },
  {
   "cell_type": "code",
   "execution_count": null,
   "id": "ae18e5f8",
   "metadata": {},
   "outputs": [],
   "source": [
    "from sklearn.preprocessing import StandardScaler, OneHotEncoder\n",
    "scaler = StandardScaler()\n",
    "oh_encode = OneHotEncoder(drop='first')\n",
    "\n",
    "from sklearn.compose import ColumnTransformer\n",
    "\n",
    "preprocessor = ColumnTransformer(\n",
    "   [ ('StandardScaler', scaler,num_feature ),\n",
    "    ('OneHotEncoder', oh_encode, cat_feature)\n",
    "   ]\n",
    ")\n"
   ]
  },
  {
   "cell_type": "code",
   "execution_count": null,
   "id": "45e7e7c5",
   "metadata": {},
   "outputs": [],
   "source": [
    "preprocessor"
   ]
  },
  {
   "cell_type": "code",
   "execution_count": null,
   "id": "0324948d",
   "metadata": {},
   "outputs": [],
   "source": [
    "from sklearn.model_selection import train_test_split\n",
    "X_train , X_test, y_train , y_test = train_test_split(X,y, test_size=0.2, random_state=42)"
   ]
  },
  {
   "cell_type": "code",
   "execution_count": null,
   "id": "d507bf35",
   "metadata": {},
   "outputs": [],
   "source": [
    "X_train = preprocessor.fit_transform(X_train)"
   ]
  },
  {
   "cell_type": "code",
   "execution_count": null,
   "id": "435877b5",
   "metadata": {},
   "outputs": [],
   "source": [
    "X_test = preprocessor.transform(X_test)"
   ]
  },
  {
   "cell_type": "code",
   "execution_count": null,
   "id": "892fe0d7",
   "metadata": {},
   "outputs": [],
   "source": [
    "pd.DataFrame(X_train)"
   ]
  },
  {
   "cell_type": "code",
   "execution_count": null,
   "id": "c14cefc9",
   "metadata": {},
   "outputs": [],
   "source": [
    "from sklearn.linear_model import LinearRegression\n",
    "from sklearn.tree import DecisionTreeRegressor\n",
    "from sklearn.neighbors import KNeighborsRegressor\n",
    "from sklearn.ensemble import RandomForestRegressor\n",
    "from sklearn.ensemble import AdaBoostRegressor\n",
    "from sklearn.ensemble import GradientBoostingRegressor"
   ]
  },
  {
   "cell_type": "code",
   "execution_count": null,
   "id": "32eaff52",
   "metadata": {},
   "outputs": [],
   "source": [
    "from sklearn.metrics import mean_squared_error, r2_score\n",
    "\n",
    "\n",
    "def evaluate_model(true, predicted):\n",
    "    mse = mean_squared_error(true,predicted)\n",
    "    rmse = np.sqrt(mse)\n",
    "    score = r2_score(true, predicted)\n",
    "\n",
    "    return mse , rmse , score"
   ]
  },
  {
   "cell_type": "code",
   "execution_count": null,
   "id": "37f0670f",
   "metadata": {},
   "outputs": [],
   "source": [
    "models = {\n",
    "    'LinearRegression' : LinearRegression(),\n",
    "    'DecisionTree': DecisionTreeRegressor(),\n",
    "    'KNN': KNeighborsRegressor(),\n",
    "    'Random Forest': RandomForestRegressor(),\n",
    "    'Adaboost Regressor': AdaBoostRegressor(),\n",
    "    'GradientBoostingRegressor': GradientBoostingRegressor()\n",
    "}"
   ]
  },
  {
   "cell_type": "code",
   "execution_count": null,
   "id": "b02baae6",
   "metadata": {},
   "outputs": [],
   "source": [
    "for i in range(len(list(models))):\n",
    "    model = list(models.values())[i]\n",
    "    model.fit(X_train , y_train)\n",
    "    ## Make predictions\n",
    "    y_train_pred = model.predict(X_train)\n",
    "    y_pred = model.predict(X_test)\n",
    "    \n",
    "    ## Scores\n",
    "    train_mse , train_rmse, train_score = evaluate_model(y_train, y_train_pred)\n",
    "    test_mse , test_rmse, test_score = evaluate_model(y_test, y_pred)\n",
    "\n",
    "    print('------------------------------------------')\n",
    "    print(list(models.keys())[i])\n",
    "    print('------------------------------------------')\n",
    "    print('Model Training Performance  : ')\n",
    "    print(f\"MSE : {train_mse}\")\n",
    "    print(f\"RMSE : {train_rmse}\")\n",
    "    print(f\"R2 Score : {train_score}\")\n",
    "\n",
    "    print('-------------------------------------------')\n",
    "    print('Model Testing Performance  : ')\n",
    "    print(f\"MSE : {test_mse}\")\n",
    "    print(f\"RMSE : {test_rmse}\")\n",
    "    print(f\"R2 Score : {test_score}\")\n",
    "\n",
    "\n",
    "\n"
   ]
  },
  {
   "cell_type": "code",
   "execution_count": null,
   "id": "8831948b",
   "metadata": {},
   "outputs": [],
   "source": [
    "#Initialize few parameter for Hyperparamter tuning\n",
    "rf_params = {\"max_depth\": [5, 8, 15, None, 10],\n",
    "             \"max_features\": [5, 7, \"auto\", 8],\n",
    "             \"min_samples_split\": [2, 8, 15, 20],\n",
    "             \"n_estimators\": [100, 200, 500, 1000]}\n",
    "\n",
    "gradient_param = {\n",
    "    'learning_rate':[10,1,0.1,0.01],\n",
    "    'n_estimators': [40,50,60,70,80,90],\n",
    "    'loss: Literal': ['squared_error', 'absolute_error', 'huber', 'quantile'],\n",
    "    'criterion': ['friedman_mse', 'squared_error'],\n",
    "    'min_samples_split': [1,2,3,4,5]\n",
    "    \n",
    "}\n"
   ]
  },
  {
   "cell_type": "code",
   "execution_count": null,
   "id": "03e5cc6c",
   "metadata": {},
   "outputs": [],
   "source": [
    "rf_params"
   ]
  },
  {
   "cell_type": "code",
   "execution_count": null,
   "id": "1beec310",
   "metadata": {},
   "outputs": [],
   "source": [
    "gradient_param"
   ]
  },
  {
   "cell_type": "code",
   "execution_count": null,
   "id": "9466bf20",
   "metadata": {},
   "outputs": [],
   "source": [
    "randomcv_models = [\n",
    "    ('Random Forest', RandomForestRegressor(), rf_params),\n",
    "    ('GradientBoostingRegressor', GradientBoostingRegressor(), gradient_param)\n",
    "]"
   ]
  },
  {
   "cell_type": "code",
   "execution_count": null,
   "id": "f8d9a326",
   "metadata": {},
   "outputs": [],
   "source": [
    "from sklearn.model_selection import RandomizedSearchCV\n",
    "\n",
    "model_param = {}\n",
    "\n",
    "for name, model ,params in randomcv_models:\n",
    "    random = RandomizedSearchCV(estimator=model, param_distributions=params ,n_iter=100 , cv=3, verbose = 2 , n_jobs=-1)\n",
    "\n",
    "    random.fit(X_train, y_train)\n",
    "    model_param[name] = random.best_params_\n",
    "\n",
    "for model_name in model_param:\n",
    "    print(f\"---------------- Best Params for {model_name} -------------------\")\n",
    "    print(model_param[model_name])\n",
    "    "
   ]
  },
  {
   "cell_type": "code",
   "execution_count": null,
   "id": "72a09881",
   "metadata": {},
   "outputs": [],
   "source": [
    "models = {\n",
    "    'KNN': KNeighborsRegressor(n_neighbors=10),\n",
    "    'Random Forest': RandomForestRegressor(n_estimators=100, min_samples_split=2, max_features=8,max_depth=15),\n",
    "    'Adaboost': AdaBoostRegressor(n_estimators= 80, loss= 'linear', learning_rate= 0.1)\n",
    "\n",
    "}"
   ]
  },
  {
   "cell_type": "code",
   "execution_count": null,
   "id": "aee10858",
   "metadata": {},
   "outputs": [],
   "source": [
    "for i in range(len(list(models))):\n",
    "    model = list(models.values())[i]\n",
    "    model.fit(X_train , y_train)\n",
    "    ## Make predictions\n",
    "    y_train_pred = model.predict(X_train)\n",
    "    y_pred = model.predict(X_test)\n",
    "    \n",
    "    ## Scores\n",
    "    train_mse , train_rmse, train_score = evaluate_model(y_train, y_train_pred)\n",
    "    test_mse , test_rmse, test_score = evaluate_model(y_test, y_pred)\n",
    "\n",
    "    print('------------------------------------------')\n",
    "    print(list(models.keys())[i])\n",
    "    print('------------------------------------------')\n",
    "    print('Model Training Performance  : ')\n",
    "    print(f\"MSE : {train_mse}\")\n",
    "    print(f\"RMSE : {train_rmse}\")\n",
    "    print(f\"R2 Score : {train_score}\")\n",
    "\n",
    "    print('-------------------------------------------')\n",
    "    print('Model Testing Performance  : ')\n",
    "    print(f\"MSE : {test_mse}\")\n",
    "    print(f\"RMSE : {test_rmse}\")\n",
    "    print(f\"R2 Score : {test_score}\")\n",
    "\n",
    "\n",
    "\n"
   ]
  },
  {
   "cell_type": "code",
   "execution_count": null,
   "id": "1d79cc91",
   "metadata": {},
   "outputs": [],
   "source": []
  }
 ],
 "metadata": {
  "kernelspec": {
   "display_name": "base",
   "language": "python",
   "name": "python3"
  },
  "language_info": {
   "codemirror_mode": {
    "name": "ipython",
    "version": 3
   },
   "file_extension": ".py",
   "mimetype": "text/x-python",
   "name": "python",
   "nbconvert_exporter": "python",
   "pygments_lexer": "ipython3",
   "version": "3.12.7"
  }
 },
 "nbformat": 4,
 "nbformat_minor": 5
}
